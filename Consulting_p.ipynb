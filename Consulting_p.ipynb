{
 "cells": [
  {
   "cell_type": "code",
   "execution_count": 30,
   "id": "9e5b061e",
   "metadata": {},
   "outputs": [
    {
     "name": "stderr",
     "output_type": "stream",
     "text": [
      "The chromedriver version (117.0.5938.62) detected in PATH at C:\\Users\\vinicius_coutinho\\Anaconda3\\chromedriver.exe might not be compatible with the detected chrome version (118.0.5993.71); currently, chromedriver 118.0.5993.70 is recommended for chrome 118.*, so it is advised to delete the driver in PATH and retry\n"
     ]
    }
   ],
   "source": [
    "# open browser\n",
    "\n",
    "from selenium import webdriver\n",
    "from selenium.webdriver.common.by import By\n",
    "from selenium.webdriver.common.keys import Keys \n",
    "from selenium import webdriver\n",
    "\n",
    "\n",
    "\n",
    "driver = webdriver.Chrome()"
   ]
  },
  {
   "cell_type": "code",
   "execution_count": 31,
   "id": "f074d675",
   "metadata": {},
   "outputs": [],
   "source": [
    "# open index page\n",
    "import os\n",
    "\n",
    "path = os.getcwd()\n",
    "file = path + r\"\\index.html\"\n",
    "driver.get(file)\n"
   ]
  },
  {
   "cell_type": "code",
   "execution_count": 32,
   "id": "b1383ce3",
   "metadata": {},
   "outputs": [],
   "source": [
    "from selenium.webdriver import ActionChains\n",
    "\n",
    "#open cities litst\n",
    "button = driver.find_element(By.CLASS_NAME,'dropdown-menu')\n",
    "ActionChains(driver).move_to_element(button).perform()\n",
    "\n",
    "#selecting Rio de Janeiro\n",
    "driver.find_element(By.XPATH,'/html/body/div/div/div/a[2]').click()"
   ]
  },
  {
   "cell_type": "code",
   "execution_count": 33,
   "id": "3fca1086",
   "metadata": {},
   "outputs": [],
   "source": [
    "#change to new tab\n",
    "original_tab = driver.window_handles[0]\n",
    "new_tab = driver.window_handles[1]\n",
    "\n",
    "driver.switch_to.window(new_tab)\n",
    "\n",
    "# fill the form with search data\n",
    "driver.find_element(By.ID,'nome').send_keys('Mister XYZ')\n",
    "driver.find_element(By.ID,'advogado').send_keys('Jhon Lawyer')\n",
    "driver.find_element(By.ID,'numero').send_keys('8578')\n",
    "\n",
    "# click in search button\n",
    "driver.find_element(By.CLASS_NAME,'registerbtn').click()\n"
   ]
  },
  {
   "cell_type": "code",
   "execution_count": 34,
   "id": "dbdd38f8",
   "metadata": {},
   "outputs": [],
   "source": [
    "# confirm the search\n",
    "alert = driver.switch_to.alert\n",
    "alert.accept()\n"
   ]
  },
  {
   "cell_type": "code",
   "execution_count": 35,
   "id": "5674d4b3",
   "metadata": {},
   "outputs": [
    {
     "name": "stdout",
     "output_type": "stream",
     "text": [
      "Processo não encontrado.\n"
     ]
    }
   ],
   "source": [
    "# wait for search results and choose an action\n",
    "import time\n",
    "\n",
    "while True:\n",
    "    try: \n",
    "        alert=driver.switch_to.alert\n",
    "        break\n",
    "    except:\n",
    "        time.sleep(1)\n",
    "text_alert = alert.text\n",
    "        \n",
    "if \"Processo Encontrado com sucesso\" in text_alert:\n",
    "    alert.accept()\n",
    "    print(\"Processo foi Encontrado!\")\n",
    "else:\n",
    "    print(\"Processo não encontrado.\")\n",
    "    alert.accept()"
   ]
  }
 ],
 "metadata": {
  "kernelspec": {
   "display_name": "Python 3 (ipykernel)",
   "language": "python",
   "name": "python3"
  },
  "language_info": {
   "codemirror_mode": {
    "name": "ipython",
    "version": 3
   },
   "file_extension": ".py",
   "mimetype": "text/x-python",
   "name": "python",
   "nbconvert_exporter": "python",
   "pygments_lexer": "ipython3",
   "version": "3.9.7"
  }
 },
 "nbformat": 4,
 "nbformat_minor": 5
}
